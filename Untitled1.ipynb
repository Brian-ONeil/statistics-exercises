{
 "cells": [
  {
   "cell_type": "code",
   "execution_count": 2,
   "id": "26758a14-f34b-4cb5-9009-9f83141923cb",
   "metadata": {},
   "outputs": [],
   "source": [
    "#standard imports\n",
    "import pandas as pd\n",
    "import numpy as np\n",
    "\n",
    "import matplotlib.pyplot as plt\n",
    "from scipy import stats\n",
    "#stats module!!!!!"
   ]
  },
  {
   "cell_type": "markdown",
   "id": "fa80a2a0-42ac-450e-b9bc-414a35ece201",
   "metadata": {},
   "source": [
    "The average battery life for a fully charges iphone-12 is 14 hours with standard deviation of 1.5 hour\n",
    "\n",
    "1. What kind of probability distribution represents the random variable \"battery life in hours\"? Continuous and normal\n",
    "2. What are the appropriate defining parameters for this distribution? 14, 1.5\n",
    "3. Create a Scipy object/instance for this distribution\n",
    "4. Use the object create above and choose appropriate method (e.g. pmf, cdf, ppf etc.) to calculate the following:\n",
    " a. What is the probability the cell phone battery more than 16 hours.  \n",
    " b. What is probability that cell phone battery lasts for exactly 12 hours.  \n",
    " c. What is the probability that cell phone battery lasts for 12 hours or less.  \n",
    " d. How many hours do the battery lasts for top 25% longest lasting phones.  "
   ]
  },
  {
   "cell_type": "code",
   "execution_count": 3,
   "id": "9c2817b8-a9b0-4a45-8575-273b9dc84518",
   "metadata": {},
   "outputs": [],
   "source": [
    "mean = 14\n",
    "sd = 1.5"
   ]
  },
  {
   "cell_type": "code",
   "execution_count": 4,
   "id": "047b2a71-629c-4da3-985f-7927ae5bd2f0",
   "metadata": {},
   "outputs": [],
   "source": [
    "cell_dist = stats.norm(mean, sd)"
   ]
  },
  {
   "cell_type": "code",
   "execution_count": 5,
   "id": "b08864ed-fe63-44c5-a92a-5efe32259afd",
   "metadata": {},
   "outputs": [
    {
     "data": {
      "text/plain": [
       "0.09121121972586788"
      ]
     },
     "execution_count": 5,
     "metadata": {},
     "output_type": "execute_result"
    }
   ],
   "source": [
    "cell_dist.sf(16)"
   ]
  },
  {
   "cell_type": "code",
   "execution_count": 6,
   "id": "1fc8200e-91b2-45b8-86be-9267669a4ddd",
   "metadata": {},
   "outputs": [
    {
     "data": {
      "text/plain": [
       "0.10934004978399577"
      ]
     },
     "execution_count": 6,
     "metadata": {},
     "output_type": "execute_result"
    }
   ],
   "source": [
    "cell_dist.pdf(12)"
   ]
  },
  {
   "cell_type": "code",
   "execution_count": 7,
   "id": "0647b2d8-bdea-4902-a5b8-98b22135cf8f",
   "metadata": {},
   "outputs": [
    {
     "data": {
      "text/plain": [
       "0.09121121972586788"
      ]
     },
     "execution_count": 7,
     "metadata": {},
     "output_type": "execute_result"
    }
   ],
   "source": [
    "cell_dist.cdf(12)"
   ]
  },
  {
   "cell_type": "code",
   "execution_count": 8,
   "id": "a68bde6a-25e6-466d-9699-98c1c011f2ef",
   "metadata": {},
   "outputs": [
    {
     "data": {
      "text/plain": [
       "15.011734625294123"
      ]
     },
     "execution_count": 8,
     "metadata": {},
     "output_type": "execute_result"
    }
   ],
   "source": [
    "cell_dist.isf(.25)"
   ]
  },
  {
   "cell_type": "code",
   "execution_count": null,
   "id": "3a2e2e33-2c02-4056-b5c9-4fc7fc890b99",
   "metadata": {},
   "outputs": [],
   "source": []
  }
 ],
 "metadata": {
  "kernelspec": {
   "display_name": "Python 3 (ipykernel)",
   "language": "python",
   "name": "python3"
  },
  "language_info": {
   "codemirror_mode": {
    "name": "ipython",
    "version": 3
   },
   "file_extension": ".py",
   "mimetype": "text/x-python",
   "name": "python",
   "nbconvert_exporter": "python",
   "pygments_lexer": "ipython3",
   "version": "3.9.13"
  }
 },
 "nbformat": 4,
 "nbformat_minor": 5
}
