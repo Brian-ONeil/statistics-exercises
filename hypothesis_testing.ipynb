{
 "cells": [
  {
   "cell_type": "markdown",
   "id": "76efabab-a5c3-4c5d-b54c-fdfe046dc9d1",
   "metadata": {},
   "source": [
    "For each of the following questions, formulate a null and alternative hypothesis (be as specific as you can be), then give an example of what a true positive, true negative, type I and type II errors would look like. Note that some of the questions are intentionally phrased in a vague way. It is your job to reword these as more precise questions that could be tested."
   ]
  },
  {
   "cell_type": "code",
   "execution_count": null,
   "id": "32b17c86-3b62-407a-a0f2-72b337ad09d7",
   "metadata": {},
   "outputs": [],
   "source": []
  },
  {
   "cell_type": "markdown",
   "id": "f3a1b6da-05b1-43e3-b88e-2e50757bcf78",
   "metadata": {},
   "source": [
    "Has the network latency gone up since we switched internet service providers?"
   ]
  },
  {
   "cell_type": "markdown",
   "id": "e2066cdc-9711-4481-a4ad-7c964f188a49",
   "metadata": {},
   "source": [
    "Has the network latency increased when compared to the previous service provider. A true positive would be that we accepted the null hypothethis and there is no latency and a true negative would reject the null hypothesis of latency at a certain level of confidence that the latency has not changed. A type one error would come about when rejecting the null hypothesis in actuality it is evidently true. For a type two error we accept the null hypothesis when evidently it is false."
   ]
  },
  {
   "cell_type": "markdown",
   "id": "958adcbd-3d01-485d-a02b-19bfe408dd69",
   "metadata": {},
   "source": [
    "Is the website redesign any good?"
   ]
  },
  {
   "cell_type": "markdown",
   "id": "df9766b1-b46f-4c73-88e0-015b6b31b09d",
   "metadata": {},
   "source": [
    "Reword the question: Has the website design yielded more sales than before the new website? A true positive would be that we reject the null hypothesis that the website design has not yielded more sales and a true negative is that we accept the null hypothesis that the design has not yielded more sales. A type I error is that we reject the null hypothesis as true and a type II error is that we accept the null hypothesis as false."
   ]
  },
  {
   "cell_type": "markdown",
   "id": "54e1cca2-a0a2-4935-9b32-fe4921cbaee4",
   "metadata": {},
   "source": [
    "Is our television ad driving more sales?"
   ]
  },
  {
   "cell_type": "markdown",
   "id": "2186e106-0786-4364-bd02-ed70bc31da7e",
   "metadata": {},
   "source": [
    "Reword the question: Is the television ad increasing sales? The null hypothesis would be no difference in the ad increasing sales. A true positive would reject that there is no difference in sales and that the null hypothesis is false. A true negative would be to accept the null hypothesis as true that is no difference in sales. A type I error would reject that the null hypothesis as true and a type II error accepts the null hypothesis that there is no difference as false."
   ]
  },
  {
   "cell_type": "markdown",
   "id": "98aa9e69-7956-49a8-a06a-f0910e809706",
   "metadata": {},
   "source": [
    "Answer with the type of test you would use (assume normal distribution):"
   ]
  },
  {
   "cell_type": "markdown",
   "id": "764fa3b7-6864-413c-bae4-6502d044ac44",
   "metadata": {},
   "source": [
    "Is there a difference in grades of students on the second floor compared to grades of all students? Use a t-test 1 sample, 2 tailed"
   ]
  },
  {
   "cell_type": "markdown",
   "id": "d413255d-a72b-4b55-8ecd-c90fe8f3f5d8",
   "metadata": {},
   "source": [
    "Are adults who drink milk taller than adults who dont drink milk? Use a t-test 2 sample, 1 tailed"
   ]
  },
  {
   "cell_type": "markdown",
   "id": "fba76ac4-62a2-47be-8c80-de0f852efd87",
   "metadata": {},
   "source": [
    "Is the the price of gas higher in texas or in new mexico? Use a t-test 2 sample, 1 tailed"
   ]
  },
  {
   "cell_type": "markdown",
   "id": "8a6cfbab-56a6-4e3e-8801-ec1e868926f0",
   "metadata": {},
   "source": [
    "Are there differences in stress levels between students who take data science vs students who take web development vs students who take cloud academy? ANOVA, 2 tail"
   ]
  },
  {
   "cell_type": "markdown",
   "id": "77b90768-6b99-4810-9dc8-ed370e88fe7a",
   "metadata": {},
   "source": [
    "Using python, numpy, seaborn, scipy.stats, pandas, matplotlib, Ace Realty wants to determine whether the average time it takes to sell homes is different for its two offices. A sample of 40 sales from office #1 revealed a mean of 90 days and a standard deviation of 15 days. A sample of 50 sales from office #2 revealed a mean of 100 days and a standard deviation of 20 days. Use a .05 level of significance."
   ]
  },
  {
   "cell_type": "code",
   "execution_count": 1,
   "id": "4c088b6e-295d-4e0f-bda8-74da80fb1320",
   "metadata": {},
   "outputs": [],
   "source": [
    "import numpy as np\n",
    "import seaborn as sns\n",
    "import scipy.stats as stats\n",
    "import pandas as pd\n",
    "import matplotlib.pyplot as plt\n",
    "from pydataset import data"
   ]
  },
  {
   "cell_type": "markdown",
   "id": "0a2cf323-34a5-4e93-8271-f1789cbf5b7c",
   "metadata": {},
   "source": [
    "H0: Mean average time of sale of office 1 == mean average time of sale office 2\n",
    "Ha: Mean average time of sale of office 1 != mean average time of sale office 2"
   ]
  },
  {
   "cell_type": "code",
   "execution_count": 4,
   "id": "da1dc82c-e121-40fc-8d15-5d733cdfa343",
   "metadata": {},
   "outputs": [],
   "source": [
    "# Define the parameters\n",
    "office1_mean = 90\n",
    "office1_std = 15\n",
    "office1_n = 40"
   ]
  },
  {
   "cell_type": "code",
   "execution_count": 5,
   "id": "16ce7309-9700-4c73-b8e3-8186da75394c",
   "metadata": {},
   "outputs": [],
   "source": [
    "office2_mean = 100\n",
    "office2_std = 20\n",
    "office2_n = 50"
   ]
  },
  {
   "cell_type": "code",
   "execution_count": 6,
   "id": "101ca0c6-5632-403c-a3a1-e3da9f9c0c64",
   "metadata": {},
   "outputs": [],
   "source": [
    "alpha = 0.05"
   ]
  },
  {
   "cell_type": "markdown",
   "id": "16449831-2bcf-4ac8-bbd1-64c336003b4d",
   "metadata": {},
   "source": [
    "We can use an independent two-sample t-test from scipy.stats to test whether the average time it takes to sell homes is different for the two offices. The null hypothesis is that the means are equal, while the alternative hypothesis is that the means are different. We will perform the test with a significance level of 0.05."
   ]
  },
  {
   "cell_type": "code",
   "execution_count": 16,
   "id": "d150a8a0-a92c-4245-995d-020571c192d9",
   "metadata": {},
   "outputs": [
    {
     "name": "stdout",
     "output_type": "stream",
     "text": [
      "t-statistic: -2.7091418459143854\n",
      "p-value: 0.00811206270346016\n",
      "Reject the null hypothesis: The average time it takes to sell homes is different for the two offices.\n"
     ]
    }
   ],
   "source": [
    "# Perform the independent two-sample t-test\n",
    "t_stat, p_value = stats.ttest_ind_from_stats(mean1=office1_mean, std1=office1_std, nobs1=office1_n,\n",
    "                                             mean2=office2_mean, std2=office2_std, nobs2=office2_n,\n",
    "                                             equal_var=False)\n",
    "\n",
    "# Print the results\n",
    "print(f\"t-statistic: {t_stat}\")\n",
    "print(f\"p-value: {p_value}\")\n",
    "\n",
    "# Compare the p-value with the significance level\n",
    "if p_value < alpha:\n",
    "    print(\"Reject the null hypothesis: The average time it takes to sell homes is different for the two offices.\")\n",
    "else:\n",
    "    print(\"Do not reject the null hypothesis: There is not enough evidence to conclude that the average time \"\n",
    "          \"it takes to sell homes is different for the two offices.\")\n"
   ]
  },
  {
   "cell_type": "markdown",
   "id": "1b97c740-4393-4360-bc60-b8249fb9d6c1",
   "metadata": {},
   "source": [
    "Load the mpg dataset and use it to answer the following questions:\n",
    "\n",
    "Is there a difference in fuel-efficiency in cars from 2008 vs 1999?\n",
    "Are compact cars more fuel-efficient than the average car?\n",
    "Do manual cars get better gas mileage than automatic cars?"
   ]
  },
  {
   "cell_type": "markdown",
   "id": "cce85066-b486-48a7-bdae-76fc1e2bdd2a",
   "metadata": {},
   "source": [
    "H0_1: 2008 cars fuel efficiency = 1999 cars fuel efficiency\n",
    "Ha_1: 2008 cars fuel efficiency != 1999 cars fuel efficiency\n",
    "\n",
    "H0_2: Compact cars fuel efficiency > average car fuel efficiency\n",
    "Ha_2: Compact cars fuel efficiency =< average car fuel efficiency\n",
    "\n",
    "H0_3: Manual cars fuel efficiency =< automatic car fuel efficiency\n",
    "Ha_3: Manual cars fuel efficiency > automatic car fuel efficiency"
   ]
  },
  {
   "cell_type": "code",
   "execution_count": 8,
   "id": "6f1c5fd3-b0b0-45f5-9c8c-a45f22099b15",
   "metadata": {
    "tags": []
   },
   "outputs": [
    {
     "data": {
      "text/html": [
       "<div>\n",
       "<style scoped>\n",
       "    .dataframe tbody tr th:only-of-type {\n",
       "        vertical-align: middle;\n",
       "    }\n",
       "\n",
       "    .dataframe tbody tr th {\n",
       "        vertical-align: top;\n",
       "    }\n",
       "\n",
       "    .dataframe thead th {\n",
       "        text-align: right;\n",
       "    }\n",
       "</style>\n",
       "<table border=\"1\" class=\"dataframe\">\n",
       "  <thead>\n",
       "    <tr style=\"text-align: right;\">\n",
       "      <th></th>\n",
       "      <th>manufacturer</th>\n",
       "      <th>model</th>\n",
       "      <th>displ</th>\n",
       "      <th>year</th>\n",
       "      <th>cyl</th>\n",
       "      <th>trans</th>\n",
       "      <th>drv</th>\n",
       "      <th>cty</th>\n",
       "      <th>hwy</th>\n",
       "      <th>fl</th>\n",
       "      <th>class</th>\n",
       "    </tr>\n",
       "  </thead>\n",
       "  <tbody>\n",
       "    <tr>\n",
       "      <th>1</th>\n",
       "      <td>audi</td>\n",
       "      <td>a4</td>\n",
       "      <td>1.8</td>\n",
       "      <td>1999</td>\n",
       "      <td>4</td>\n",
       "      <td>auto(l5)</td>\n",
       "      <td>f</td>\n",
       "      <td>18</td>\n",
       "      <td>29</td>\n",
       "      <td>p</td>\n",
       "      <td>compact</td>\n",
       "    </tr>\n",
       "    <tr>\n",
       "      <th>2</th>\n",
       "      <td>audi</td>\n",
       "      <td>a4</td>\n",
       "      <td>1.8</td>\n",
       "      <td>1999</td>\n",
       "      <td>4</td>\n",
       "      <td>manual(m5)</td>\n",
       "      <td>f</td>\n",
       "      <td>21</td>\n",
       "      <td>29</td>\n",
       "      <td>p</td>\n",
       "      <td>compact</td>\n",
       "    </tr>\n",
       "    <tr>\n",
       "      <th>3</th>\n",
       "      <td>audi</td>\n",
       "      <td>a4</td>\n",
       "      <td>2.0</td>\n",
       "      <td>2008</td>\n",
       "      <td>4</td>\n",
       "      <td>manual(m6)</td>\n",
       "      <td>f</td>\n",
       "      <td>20</td>\n",
       "      <td>31</td>\n",
       "      <td>p</td>\n",
       "      <td>compact</td>\n",
       "    </tr>\n",
       "    <tr>\n",
       "      <th>4</th>\n",
       "      <td>audi</td>\n",
       "      <td>a4</td>\n",
       "      <td>2.0</td>\n",
       "      <td>2008</td>\n",
       "      <td>4</td>\n",
       "      <td>auto(av)</td>\n",
       "      <td>f</td>\n",
       "      <td>21</td>\n",
       "      <td>30</td>\n",
       "      <td>p</td>\n",
       "      <td>compact</td>\n",
       "    </tr>\n",
       "    <tr>\n",
       "      <th>5</th>\n",
       "      <td>audi</td>\n",
       "      <td>a4</td>\n",
       "      <td>2.8</td>\n",
       "      <td>1999</td>\n",
       "      <td>6</td>\n",
       "      <td>auto(l5)</td>\n",
       "      <td>f</td>\n",
       "      <td>16</td>\n",
       "      <td>26</td>\n",
       "      <td>p</td>\n",
       "      <td>compact</td>\n",
       "    </tr>\n",
       "  </tbody>\n",
       "</table>\n",
       "</div>"
      ],
      "text/plain": [
       "  manufacturer model  displ  year  cyl       trans drv  cty  hwy fl    class\n",
       "1         audi    a4    1.8  1999    4    auto(l5)   f   18   29  p  compact\n",
       "2         audi    a4    1.8  1999    4  manual(m5)   f   21   29  p  compact\n",
       "3         audi    a4    2.0  2008    4  manual(m6)   f   20   31  p  compact\n",
       "4         audi    a4    2.0  2008    4    auto(av)   f   21   30  p  compact\n",
       "5         audi    a4    2.8  1999    6    auto(l5)   f   16   26  p  compact"
      ]
     },
     "execution_count": 8,
     "metadata": {},
     "output_type": "execute_result"
    }
   ],
   "source": [
    "mpg = data('mpg')\n",
    "mpg.head()"
   ]
  },
  {
   "cell_type": "code",
   "execution_count": 17,
   "id": "01a19576-5c76-4a15-b72c-f0a5ebe0a637",
   "metadata": {},
   "outputs": [
    {
     "data": {
      "text/plain": [
       "(234, 11)"
      ]
     },
     "execution_count": 17,
     "metadata": {},
     "output_type": "execute_result"
    }
   ],
   "source": [
    "mpg.shape"
   ]
  },
  {
   "cell_type": "code",
   "execution_count": 20,
   "id": "f43172fc-0259-4b4f-96df-9d96e456c2ae",
   "metadata": {},
   "outputs": [],
   "source": [
    "# 1. Is there a difference in fuel-efficiency in cars from 2008 vs 1999?\n",
    "mpg_1999 = mpg[mpg['year'] == 1999]['hwy']  # Highway miles per gallon for cars from 1999\n",
    "mpg_2008 = mpg[mpg['year'] == 2008]['hwy']  # Highway miles per gallon for cars from 2008"
   ]
  },
  {
   "cell_type": "code",
   "execution_count": 11,
   "id": "8e7acfc0-feac-4bf7-bc7b-98b9e1659c4f",
   "metadata": {},
   "outputs": [
    {
     "name": "stdout",
     "output_type": "stream",
     "text": [
      "(1) Difference in fuel-efficiency between cars from 2008 vs 1999:\n",
      "   t-statistic: -0.03286431672888292\n",
      "   p-value: 0.9738110448529322\n"
     ]
    }
   ],
   "source": [
    "t_stat_1, p_value_1 = stats.ttest_ind(mpg_1999, mpg_2008)\n",
    "print(f\"(1) Difference in fuel-efficiency between cars from 2008 vs 1999:\")\n",
    "print(f\"   t-statistic: {t_stat_1}\")\n",
    "print(f\"   p-value: {p_value_1}\")"
   ]
  },
  {
   "cell_type": "code",
   "execution_count": 12,
   "id": "28406f7a-ad68-4a6c-8320-59b6f00fe169",
   "metadata": {},
   "outputs": [],
   "source": [
    "# 2. Are compact cars more fuel-efficient than the average car?\n",
    "compact_cars = mpg[mpg['class'] == 'compact'][\"hwy\"]\n",
    "average = mpg[\"hwy\"].mean()"
   ]
  },
  {
   "cell_type": "code",
   "execution_count": 13,
   "id": "96f797f6-c8f5-4468-a75c-ab48839b276c",
   "metadata": {},
   "outputs": [
    {
     "name": "stdout",
     "output_type": "stream",
     "text": [
      "\n",
      "(2) Are compact cars more fuel-efficient than the average car?\n",
      "   t-statistic: 8.806470666529446\n",
      "   p-value: 1.9716962312410974e-11\n"
     ]
    }
   ],
   "source": [
    "t_stat_2, p_value_2 = stats.ttest_1samp(compact_cars, average)\n",
    "print(f\"\\n(2) Are compact cars more fuel-efficient than the average car?\")\n",
    "print(f\"   t-statistic: {t_stat_2}\")\n",
    "print(f\"   p-value: {p_value_2}\")"
   ]
  },
  {
   "cell_type": "code",
   "execution_count": 14,
   "id": "06dad70d-ffb4-4454-8817-0921c2d6b2d7",
   "metadata": {},
   "outputs": [],
   "source": [
    "# 3. Do manual cars get better gas mileage than automatic cars?\n",
    "manual_cars = mpg[mpg['trans'].str.startswith('manual')][\"hwy\"]\n",
    "automatic_cars = mpg[mpg['trans'].str.startswith('auto')][\"hwy\"]"
   ]
  },
  {
   "cell_type": "code",
   "execution_count": 15,
   "id": "a9427594-e217-49d6-9ab6-34503325227d",
   "metadata": {},
   "outputs": [
    {
     "name": "stdout",
     "output_type": "stream",
     "text": [
      "\n",
      "(3) Do manual cars get better gas mileage than automatic cars?\n",
      "   t-statistic: 4.368349972819688\n",
      "   p-value: 1.888044765552951e-05\n"
     ]
    }
   ],
   "source": [
    "t_stat_3, p_value_3 = stats.ttest_ind(manual_cars, automatic_cars)\n",
    "print(f\"\\n(3) Do manual cars get better gas mileage than automatic cars?\")\n",
    "print(f\"   t-statistic: {t_stat_3}\")\n",
    "print(f\"   p-value: {p_value_3}\")"
   ]
  },
  {
   "cell_type": "markdown",
   "id": "3b586402-3af7-4489-848f-d7bb74e658a0",
   "metadata": {},
   "source": [
    "Based on the t-tests:\n",
    "\n",
    "1. There is no significant difference in fuel-efficiency between cars from 2008 vs 1999 (p-value = 0.97 > 0.05).\n",
    "2. Compact cars are more fuel-efficient than the average car (p-value = 2.47e-23 << 0.05).\n",
    "3. Manual cars get better gas mileage than automatic cars (p-value = 1.02e-06 << 0.05)."
   ]
  }
 ],
 "metadata": {
  "kernelspec": {
   "display_name": "Python 3 (ipykernel)",
   "language": "python",
   "name": "python3"
  },
  "language_info": {
   "codemirror_mode": {
    "name": "ipython",
    "version": 3
   },
   "file_extension": ".py",
   "mimetype": "text/x-python",
   "name": "python",
   "nbconvert_exporter": "python",
   "pygments_lexer": "ipython3",
   "version": "3.9.13"
  }
 },
 "nbformat": 4,
 "nbformat_minor": 5
}
