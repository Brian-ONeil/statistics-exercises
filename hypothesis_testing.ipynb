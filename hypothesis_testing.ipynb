{
 "cells": [
  {
   "cell_type": "markdown",
   "id": "76efabab-a5c3-4c5d-b54c-fdfe046dc9d1",
   "metadata": {},
   "source": [
    "For each of the following questions, formulate a null and alternative hypothesis (be as specific as you can be), then give an example of what a true positive, true negative, type I and type II errors would look like. Note that some of the questions are intentionally phrased in a vague way. It is your job to reword these as more precise questions that could be tested."
   ]
  },
  {
   "cell_type": "code",
   "execution_count": null,
   "id": "32b17c86-3b62-407a-a0f2-72b337ad09d7",
   "metadata": {},
   "outputs": [],
   "source": []
  },
  {
   "cell_type": "markdown",
   "id": "f3a1b6da-05b1-43e3-b88e-2e50757bcf78",
   "metadata": {},
   "source": [
    "Has the network latency gone up since we switched internet service providers?"
   ]
  },
  {
   "cell_type": "markdown",
   "id": "e2066cdc-9711-4481-a4ad-7c964f188a49",
   "metadata": {},
   "source": [
    "A true positive would be that we rejected the hypothethis there is no latency and a true negative would accept the hypothesis of latency at a certain level of confidence that the latency has not changed. A type one error would come about when rejecting the null hypothesis in actuality it is evidently true. For a type two errorwe accept the null hypothesis when evidently it is false."
   ]
  },
  {
   "cell_type": "markdown",
   "id": "958adcbd-3d01-485d-a02b-19bfe408dd69",
   "metadata": {},
   "source": [
    "Is the website redesign any good?"
   ]
  },
  {
   "cell_type": "markdown",
   "id": "df9766b1-b46f-4c73-88e0-015b6b31b09d",
   "metadata": {},
   "source": [
    "Reword the question: Has the website design yielded more sales than before the new website. A true positive would be that we reject the hypothesis that the website design h"
   ]
  },
  {
   "cell_type": "markdown",
   "id": "54e1cca2-a0a2-4935-9b32-fe4921cbaee4",
   "metadata": {},
   "source": [
    "Is our television ad driving more sales?"
   ]
  },
  {
   "cell_type": "markdown",
   "id": "2186e106-0786-4364-bd02-ed70bc31da7e",
   "metadata": {},
   "source": []
  }
 ],
 "metadata": {
  "kernelspec": {
   "display_name": "Python 3 (ipykernel)",
   "language": "python",
   "name": "python3"
  },
  "language_info": {
   "codemirror_mode": {
    "name": "ipython",
    "version": 3
   },
   "file_extension": ".py",
   "mimetype": "text/x-python",
   "name": "python",
   "nbconvert_exporter": "python",
   "pygments_lexer": "ipython3",
   "version": "3.9.13"
  }
 },
 "nbformat": 4,
 "nbformat_minor": 5
}
