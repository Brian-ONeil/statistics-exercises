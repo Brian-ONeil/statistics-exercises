{
 "cells": [
  {
   "cell_type": "code",
   "execution_count": 2,
   "id": "8a571fe7",
   "metadata": {},
   "outputs": [],
   "source": [
    "import numpy as np\n",
    "import pandas as pd\n",
    "import matplotlib.pyplot as plt\n",
    "np.random.seed(123)"
   ]
  },
  {
   "cell_type": "markdown",
   "id": "203a9ccc",
   "metadata": {},
   "source": [
    "How likely is it that you roll doubles when rolling two dice?"
   ]
  },
  {
   "cell_type": "code",
   "execution_count": 2,
   "id": "0250b89a",
   "metadata": {},
   "outputs": [],
   "source": [
    "#outcomes\n",
    "outcomes = [1,2,3,4,5,6]\n",
    "\n",
    "#simulations and trials\n",
    "n_trials = 2 #number of dice we are rolling\n",
    "n_simulation = 100_000 #how many times we are rolling the dice"
   ]
  },
  {
   "cell_type": "code",
   "execution_count": 3,
   "id": "18a3f8f7",
   "metadata": {},
   "outputs": [
    {
     "data": {
      "text/plain": [
       "array([[6, 3],\n",
       "       [5, 3],\n",
       "       [2, 4],\n",
       "       ...,\n",
       "       [5, 5],\n",
       "       [5, 4],\n",
       "       [4, 6]])"
      ]
     },
     "execution_count": 3,
     "metadata": {},
     "output_type": "execute_result"
    }
   ],
   "source": [
    "dice_rolls = np.random.choice(outcomes, (n_simulation, n_trials))\n",
    "dice_rolls"
   ]
  },
  {
   "cell_type": "code",
   "execution_count": 4,
   "id": "83da4909",
   "metadata": {},
   "outputs": [
    {
     "data": {
      "text/plain": [
       "0.16497"
      ]
     },
     "execution_count": 4,
     "metadata": {},
     "output_type": "execute_result"
    }
   ],
   "source": [
    "# count the number of times that the two dice have the same number\n",
    "doubles = np.sum(dice_rolls[:, 0] == dice_rolls[:, 1])\n",
    "\n",
    "# calculate the probability of rolling doubles\n",
    "prob = doubles / dice_rolls.shape[0]\n",
    "\n",
    "# print the probability\n",
    "prob"
   ]
  },
  {
   "cell_type": "code",
   "execution_count": 3,
   "id": "c2bdb465",
   "metadata": {},
   "outputs": [],
   "source": [
    "#can use any random seed- lets preset this\n",
    "np.random.seed(1349) \n",
    "\n",
    "#preset the number of simulations we'll have\n",
    "n_simulations =100_000"
   ]
  },
  {
   "cell_type": "code",
   "execution_count": 4,
   "id": "bb94e7f6",
   "metadata": {},
   "outputs": [
    {
     "data": {
      "text/plain": [
       "0.16666666666666666"
      ]
     },
     "execution_count": 4,
     "metadata": {},
     "output_type": "execute_result"
    }
   ],
   "source": [
    "#6 chances for a double out of 36 rolls\n",
    "6/36 "
   ]
  },
  {
   "cell_type": "code",
   "execution_count": 5,
   "id": "360260b6",
   "metadata": {},
   "outputs": [],
   "source": [
    "#number of dice\n",
    "n_dice = 2 \n",
    "\n",
    "#possible outcomes\n",
    "outcomes = [1,2,3,4,5,6]"
   ]
  },
  {
   "cell_type": "code",
   "execution_count": 6,
   "id": "c521c9a1",
   "metadata": {},
   "outputs": [
    {
     "data": {
      "text/plain": [
       "array([[3, 2],\n",
       "       [5, 3],\n",
       "       [4, 4],\n",
       "       ...,\n",
       "       [3, 5],\n",
       "       [2, 4],\n",
       "       [4, 5]])"
      ]
     },
     "execution_count": 6,
     "metadata": {},
     "output_type": "execute_result"
    }
   ],
   "source": [
    "rolls = np.random.choice(outcomes, size=(n_simulations, n_dice))\n",
    "\n",
    "#call our variable\n",
    "rolls"
   ]
  },
  {
   "cell_type": "code",
   "execution_count": 7,
   "id": "825bd728",
   "metadata": {},
   "outputs": [
    {
     "data": {
      "text/html": [
       "<div>\n",
       "<style scoped>\n",
       "    .dataframe tbody tr th:only-of-type {\n",
       "        vertical-align: middle;\n",
       "    }\n",
       "\n",
       "    .dataframe tbody tr th {\n",
       "        vertical-align: top;\n",
       "    }\n",
       "\n",
       "    .dataframe thead th {\n",
       "        text-align: right;\n",
       "    }\n",
       "</style>\n",
       "<table border=\"1\" class=\"dataframe\">\n",
       "  <thead>\n",
       "    <tr style=\"text-align: right;\">\n",
       "      <th></th>\n",
       "      <th>0</th>\n",
       "      <th>1</th>\n",
       "    </tr>\n",
       "  </thead>\n",
       "  <tbody>\n",
       "    <tr>\n",
       "      <th>0</th>\n",
       "      <td>3</td>\n",
       "      <td>2</td>\n",
       "    </tr>\n",
       "    <tr>\n",
       "      <th>1</th>\n",
       "      <td>5</td>\n",
       "      <td>3</td>\n",
       "    </tr>\n",
       "    <tr>\n",
       "      <th>2</th>\n",
       "      <td>4</td>\n",
       "      <td>4</td>\n",
       "    </tr>\n",
       "    <tr>\n",
       "      <th>3</th>\n",
       "      <td>6</td>\n",
       "      <td>2</td>\n",
       "    </tr>\n",
       "    <tr>\n",
       "      <th>4</th>\n",
       "      <td>1</td>\n",
       "      <td>1</td>\n",
       "    </tr>\n",
       "  </tbody>\n",
       "</table>\n",
       "</div>"
      ],
      "text/plain": [
       "   0  1\n",
       "0  3  2\n",
       "1  5  3\n",
       "2  4  4\n",
       "3  6  2\n",
       "4  1  1"
      ]
     },
     "execution_count": 7,
     "metadata": {},
     "output_type": "execute_result"
    }
   ],
   "source": [
    "#let's turn this into a dataframe so we can see our outcomes more clearly\n",
    "rolls =pd.DataFrame(rolls)\n",
    "\n",
    "#call our new dataframe\n",
    "rolls.head()"
   ]
  },
  {
   "cell_type": "code",
   "execution_count": 8,
   "id": "309058fc",
   "metadata": {},
   "outputs": [
    {
     "data": {
      "text/plain": [
       "0.16445"
      ]
     },
     "execution_count": 8,
     "metadata": {},
     "output_type": "execute_result"
    }
   ],
   "source": [
    "#the average likelyhood that roll in index 0 will equal roll in index 1\n",
    "(rolls[0] == rolls[1]).mean()"
   ]
  },
  {
   "cell_type": "code",
   "execution_count": null,
   "id": "4203396e",
   "metadata": {},
   "outputs": [],
   "source": []
  },
  {
   "cell_type": "code",
   "execution_count": null,
   "id": "6c6a3174",
   "metadata": {},
   "outputs": [],
   "source": []
  }
 ],
 "metadata": {
  "kernelspec": {
   "display_name": "Python 3 (ipykernel)",
   "language": "python",
   "name": "python3"
  },
  "language_info": {
   "codemirror_mode": {
    "name": "ipython",
    "version": 3
   },
   "file_extension": ".py",
   "mimetype": "text/x-python",
   "name": "python",
   "nbconvert_exporter": "python",
   "pygments_lexer": "ipython3",
   "version": "3.9.13"
  }
 },
 "nbformat": 4,
 "nbformat_minor": 5
}
