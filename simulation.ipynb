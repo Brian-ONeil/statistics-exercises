{
 "cells": [
  {
   "cell_type": "code",
   "execution_count": 1,
   "id": "8a571fe7",
   "metadata": {},
   "outputs": [],
   "source": [
    "import numpy as np\n",
    "import pandas as pd\n",
    "\n",
    "np.random.seed(123)"
   ]
  },
  {
   "cell_type": "markdown",
   "id": "203a9ccc",
   "metadata": {},
   "source": [
    "How likely is it that you roll doubles when rolling two dice?"
   ]
  },
  {
   "cell_type": "code",
   "execution_count": 8,
   "id": "0250b89a",
   "metadata": {},
   "outputs": [],
   "source": [
    "#outcomes\n",
    "outcomes = [1,2,3,4,5,6]\n",
    "\n",
    "#simulations and trials\n",
    "n_trials = 2 #number of dice we are rolling\n",
    "n_simulation = 100_000 #how many times we are rolling the dice"
   ]
  },
  {
   "cell_type": "code",
   "execution_count": 9,
   "id": "18a3f8f7",
   "metadata": {},
   "outputs": [
    {
     "data": {
      "text/plain": [
       "array([[2, 6],\n",
       "       [1, 5],\n",
       "       [3, 5],\n",
       "       ...,\n",
       "       [2, 3],\n",
       "       [5, 5],\n",
       "       [2, 5]])"
      ]
     },
     "execution_count": 9,
     "metadata": {},
     "output_type": "execute_result"
    }
   ],
   "source": [
    "dice_rolls = np.random.choice(outcomes, (n_simulation, n_trials))\n",
    "dice_rolls"
   ]
  },
  {
   "cell_type": "code",
   "execution_count": 10,
   "id": "83da4909",
   "metadata": {},
   "outputs": [
    {
     "data": {
      "text/plain": [
       "0.16749"
      ]
     },
     "execution_count": 10,
     "metadata": {},
     "output_type": "execute_result"
    }
   ],
   "source": [
    "# count the number of times that the two dice have the same number\n",
    "doubles = np.sum(dice_rolls[:, 0] == dice_rolls[:, 1])\n",
    "\n",
    "# calculate the probability of rolling doubles\n",
    "prob = doubles / dice_rolls.shape[0]\n",
    "\n",
    "# print the probability\n",
    "prob"
   ]
  },
  {
   "cell_type": "code",
   "execution_count": null,
   "id": "c2bdb465",
   "metadata": {},
   "outputs": [],
   "source": []
  },
  {
   "cell_type": "code",
   "execution_count": null,
   "id": "bb94e7f6",
   "metadata": {},
   "outputs": [],
   "source": []
  },
  {
   "cell_type": "code",
   "execution_count": null,
   "id": "360260b6",
   "metadata": {},
   "outputs": [],
   "source": []
  },
  {
   "cell_type": "code",
   "execution_count": null,
   "id": "c521c9a1",
   "metadata": {},
   "outputs": [],
   "source": []
  },
  {
   "cell_type": "code",
   "execution_count": null,
   "id": "825bd728",
   "metadata": {},
   "outputs": [],
   "source": []
  },
  {
   "cell_type": "code",
   "execution_count": null,
   "id": "309058fc",
   "metadata": {},
   "outputs": [],
   "source": []
  },
  {
   "cell_type": "code",
   "execution_count": null,
   "id": "4203396e",
   "metadata": {},
   "outputs": [],
   "source": []
  },
  {
   "cell_type": "code",
   "execution_count": null,
   "id": "6c6a3174",
   "metadata": {},
   "outputs": [],
   "source": []
  }
 ],
 "metadata": {
  "kernelspec": {
   "display_name": "Python 3 (ipykernel)",
   "language": "python",
   "name": "python3"
  },
  "language_info": {
   "codemirror_mode": {
    "name": "ipython",
    "version": 3
   },
   "file_extension": ".py",
   "mimetype": "text/x-python",
   "name": "python",
   "nbconvert_exporter": "python",
   "pygments_lexer": "ipython3",
   "version": "3.9.13"
  }
 },
 "nbformat": 4,
 "nbformat_minor": 5
}
