{
 "cells": [
  {
   "cell_type": "code",
   "execution_count": 1,
   "id": "420cfbf5-c23a-48a5-a844-adae7e9c9fa6",
   "metadata": {},
   "outputs": [
    {
     "name": "stdout",
     "output_type": "stream",
     "text": [
      "Probability that 70 or more people take the survey:  0.1510752871020976\n"
     ]
    }
   ],
   "source": [
    "\n",
    "import numpy as np\n",
    "import pandas as pd\n",
    "import scipy.stats as stats\n",
    "\n",
    "n_customers = 618  # Total number of customers\n",
    "p_survey = 0.10    # Probability of completing the survey\n",
    "threshold = 70     # Number of people taking the survey or more\n",
    "\n",
    "# Calculate the cumulative distribution function (CDF) at threshold - 1\n",
    "cdf_threshold = stats.binom.cdf(threshold - 1, n_customers, p_survey)\n",
    "\n",
    "# Calculate the probability for 70 or more people taking the survey\n",
    "probability = 1 - cdf_threshold\n",
    "\n",
    "# Print the result\n",
    "print(\"Probability that 70 or more people take the survey: \", probability)\n"
   ]
  },
  {
   "cell_type": "markdown",
   "id": "3760b3d9-6ce6-42d7-8b73-393319374542",
   "metadata": {},
   "source": [
    "To determine the likelihood of being able to eat at The Esquire during your lunch hour without being late, we need to find the probability that it takes less than or equal to (60-5-5) 50 minutes in total, accounting for 5 minutes walking to and from the restaurant. Since the time taken at the restaurant is normally distributed with a mean of 40 minutes and a standard deviation of 15 minutes, we can use the cumulative distribution function (CDF) to find the probability.\n",
    "\n",
    "In Python, we can use scipy.stats.norm CDF as shown below:\n",
    "\n",
    "```python\n",
    "\n",
    "Run the code above to find the likelihood of being able to go eat at The Esquire during your lunch hour and not be late back to class."
   ]
  },
  {
   "cell_type": "code",
   "execution_count": 2,
   "id": "476cfab0-252b-4693-9279-93545a73ca3a",
   "metadata": {},
   "outputs": [
    {
     "name": "stdout",
     "output_type": "stream",
     "text": [
      "Probability of making it back in time:  0.7475074624530771\n"
     ]
    }
   ],
   "source": [
    "\n",
    "from scipy.stats import norm\n",
    "\n",
    "mean = 40\n",
    "std_dev = 15\n",
    "total_time_available = 50\n",
    "\n",
    "# Calculate the probability using the CDF\n",
    "probability = norm.cdf(total_time_available, mean, std_dev)\n",
    "\n",
    "print(\"Probability of making it back in time: \", probability)\n",
    "\n",
    "\n"
   ]
  },
  {
   "cell_type": "code",
   "execution_count": null,
   "id": "faa1e3cc-84bc-429b-8bda-ebe8c0e7f963",
   "metadata": {},
   "outputs": [],
   "source": []
  }
 ],
 "metadata": {
  "kernelspec": {
   "display_name": "Python 3 (ipykernel)",
   "language": "python",
   "name": "python3"
  },
  "language_info": {
   "codemirror_mode": {
    "name": "ipython",
    "version": 3
   },
   "file_extension": ".py",
   "mimetype": "text/x-python",
   "name": "python",
   "nbconvert_exporter": "python",
   "pygments_lexer": "ipython3",
   "version": "3.9.13"
  }
 },
 "nbformat": 4,
 "nbformat_minor": 5
}
