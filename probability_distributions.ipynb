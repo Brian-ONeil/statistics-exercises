{
 "cells": [
  {
   "cell_type": "code",
   "execution_count": 42,
   "id": "8ec56373-136b-4cb3-9433-613eadeb0282",
   "metadata": {},
   "outputs": [],
   "source": [
    "#standard imports\n",
    "import pandas as pd\n",
    "import numpy as np\n",
    "\n",
    "import matplotlib.pyplot as plt\n",
    "from pydataset import data\n",
    "from scipy import stats\n",
    "from scipy.stats import poisson\n",
    "#stats module!!!!!"
   ]
  },
  {
   "cell_type": "markdown",
   "id": "3dc4dcae-6095-4d13-a7b6-0e0f9d0a6c78",
   "metadata": {},
   "source": [
    "A bank found that the average number of cars waiting during the noon hour at a drive-up window follows a Poisson distribution with a mean of 2 cars. Make a chart of this distribution and answer these questions concerning the probability of cars waiting at the drive-up window.\n",
    "\n",
    "What is the probability that no cars drive up in the noon hour?\n",
    "What is the probability that 3 or more cars come through the drive through?\n",
    "How likely is it that the drive through gets at least 1 car?"
   ]
  },
  {
   "cell_type": "code",
   "execution_count": 75,
   "id": "482a2c55-3141-4ef2-b524-83f398f46707",
   "metadata": {},
   "outputs": [],
   "source": [
    "mean = 2"
   ]
  },
  {
   "cell_type": "code",
   "execution_count": 3,
   "id": "080b58c5-ec60-45ac-a504-1b4dc306ef1c",
   "metadata": {
    "tags": []
   },
   "outputs": [
    {
     "data": {
      "text/plain": [
       "<scipy.stats._distn_infrastructure.rv_discrete_frozen at 0x104a62f40>"
      ]
     },
     "execution_count": 3,
     "metadata": {},
     "output_type": "execute_result"
    }
   ],
   "source": [
    "cars_wait = stats.poisson(lamb)\n",
    "cars_wait"
   ]
  },
  {
   "cell_type": "code",
   "execution_count": 78,
   "id": "8d8af89d-47de-47e3-9145-2f5fa6ea0036",
   "metadata": {},
   "outputs": [
    {
     "data": {
      "text/plain": [
       "0.1353352832366127"
      ]
     },
     "execution_count": 78,
     "metadata": {},
     "output_type": "execute_result"
    }
   ],
   "source": [
    "stats.poisson.pmf(0, mean)"
   ]
  },
  {
   "cell_type": "code",
   "execution_count": 80,
   "id": "6f2912ec-a945-47a0-884b-e58167c05e52",
   "metadata": {},
   "outputs": [
    {
     "data": {
      "text/plain": [
       "0.32332358381693654"
      ]
     },
     "execution_count": 80,
     "metadata": {},
     "output_type": "execute_result"
    }
   ],
   "source": [
    "stats.poisson.sf(2, mean)"
   ]
  },
  {
   "cell_type": "code",
   "execution_count": 81,
   "id": "0ade1940-fb4e-4df4-9a39-782785c79ca1",
   "metadata": {},
   "outputs": [
    {
     "data": {
      "text/plain": [
       "0.8646647167633873"
      ]
     },
     "execution_count": 81,
     "metadata": {},
     "output_type": "execute_result"
    }
   ],
   "source": [
    "stats.poisson.sf(0, mean)"
   ]
  },
  {
   "cell_type": "code",
   "execution_count": 82,
   "id": "1d784603-b26d-4ebc-8f55-c4b8ee26f6c3",
   "metadata": {},
   "outputs": [
    {
     "data": {
      "image/png": "[encoded data removed]",
      "text/plain": [
       "<Figure size 640x480 with 1 Axes>"
      ]
     },
     "metadata": {},
     "output_type": "display_data"
    }
   ],
   "source": [
    "x = np.arange(0,11)\n",
    "y = [cars_wait.pmf(i) for i in x]\n",
    "\n",
    "plt.bar(x,y)\n",
    "\n",
    "plt.xlabel('Number of Cars Waiting')\n",
    "plt.ylabel('Probability of Cars Waiting')\n",
    "plt.title('Poisson Distribution of Cars Waiting at Noon')\n",
    "plt.show()"
   ]
  },
  {
   "cell_type": "markdown",
   "id": "a4ecae44-ca34-4a46-b53e-dda480093ca9",
   "metadata": {},
   "source": [
    "Using scipy, pandas, python Grades of State University graduates are normally distributed with a mean of 3.0 and a standard deviation of .3. Calculate the following:\n",
    "\n",
    "What grade point average is required to be in the top 5% of the graduating class?\n",
    "What GPA constitutes the bottom 15% of the class?\n",
    "An eccentric alumnus left scholarship money for students in the third decile from the bottom of their class. Determine the range of the third decile. Would a student with a 2.8 grade point average qualify for this scholarship? Yes range is 2.75 to 2.84\n",
    "If I have a GPA of 3.5, what percentile am I in?"
   ]
  },
  {
   "cell_type": "code",
   "execution_count": 7,
   "id": "2faa7181-2f62-4381-bb49-e007a87545db",
   "metadata": {},
   "outputs": [],
   "source": [
    "mean = 3\n",
    "sd = .3"
   ]
  },
  {
   "cell_type": "markdown",
   "id": "4c841c1b-096d-44e2-9b48-491fae0eb1da",
   "metadata": {},
   "source": [
    "μ σ = \\mu, \\sigma"
   ]
  },
  {
   "cell_type": "code",
   "execution_count": 10,
   "id": "8328ba5e-bfa7-4646-a46e-677d7771d80f",
   "metadata": {},
   "outputs": [],
   "source": [
    "GPA_dist = stats.norm(mean, sd)"
   ]
  },
  {
   "cell_type": "code",
   "execution_count": 11,
   "id": "f8d126d7-22ae-468e-8389-cbb1da23bd21",
   "metadata": {},
   "outputs": [
    {
     "data": {
      "text/plain": [
       "3.4934560880854417"
      ]
     },
     "execution_count": 11,
     "metadata": {},
     "output_type": "execute_result"
    }
   ],
   "source": [
    "GPA_dist.isf(.05)"
   ]
  },
  {
   "cell_type": "code",
   "execution_count": 12,
   "id": "7a2a2f01-99c2-42b5-b2bc-a0fcaa70d048",
   "metadata": {},
   "outputs": [
    {
     "data": {
      "text/plain": [
       "2.689069983151863"
      ]
     },
     "execution_count": 12,
     "metadata": {},
     "output_type": "execute_result"
    }
   ],
   "source": [
    "GPA_dist.ppf(.15)"
   ]
  },
  {
   "cell_type": "code",
   "execution_count": 87,
   "id": "a2e2331f-2778-4ec8-b2e6-c2fa3302e678",
   "metadata": {},
   "outputs": [
    {
     "data": {
      "text/plain": [
       "2.7475136299281258"
      ]
     },
     "execution_count": 87,
     "metadata": {},
     "output_type": "execute_result"
    }
   ],
   "source": [
    "GPA_2D = GPA_dist.ppf(.2)\n",
    "GPA_2D"
   ]
  },
  {
   "cell_type": "code",
   "execution_count": 89,
   "id": "45f90e0e-1202-435a-aca0-0e0bad229412",
   "metadata": {},
   "outputs": [
    {
     "data": {
      "text/plain": [
       "2.842679846187588"
      ]
     },
     "execution_count": 89,
     "metadata": {},
     "output_type": "execute_result"
    }
   ],
   "source": [
    "GPA_3D = GPA_dist.ppf(.3)\n",
    "GPA_3D"
   ]
  },
  {
   "cell_type": "code",
   "execution_count": 97,
   "id": "4614fc90-af94-4f52-939d-346ac8db01c8",
   "metadata": {},
   "outputs": [
    {
     "name": "stdout",
     "output_type": "stream",
     "text": [
      "True\n"
     ]
    }
   ],
   "source": [
    "if (2.8 >= GPA_2D) & (2.8 <= GPA_3D):\n",
    "    print ('True')\n",
    "else: \n",
    "    print ('False')"
   ]
  },
  {
   "cell_type": "code",
   "execution_count": 84,
   "id": "c4aa17fe-eac7-4223-a0ae-9586e489cf00",
   "metadata": {},
   "outputs": [
    {
     "data": {
      "text/plain": [
       "0.9522096477271853"
      ]
     },
     "execution_count": 84,
     "metadata": {},
     "output_type": "execute_result"
    }
   ],
   "source": [
    "GPA_dist.cdf(3.5)"
   ]
  },
  {
   "cell_type": "markdown",
   "id": "44772c2f-9c7c-473a-a70d-3a5a01b69e02",
   "metadata": {},
   "source": [
    "Using pandas, scipy, python, A marketing website has an average click-through rate of 2%. One day they observe 4326 visitors and 97 click-throughs. How likely is it that this many people or more click through?"
   ]
  },
  {
   "cell_type": "code",
   "execution_count": 23,
   "id": "d62e2ead-f515-4dde-9ba2-911297b46b0d",
   "metadata": {},
   "outputs": [],
   "source": [
    "click_through_rate = 0.02\n",
    "num_visitors = 4326\n",
    "observed_click_throughs = 97"
   ]
  },
  {
   "cell_type": "code",
   "execution_count": 27,
   "id": "997faa8f-d12e-4e1d-8823-c85f6f92a1fd",
   "metadata": {},
   "outputs": [
    {
     "data": {
      "text/plain": [
       "0.14211867659283195"
      ]
     },
     "execution_count": 27,
     "metadata": {},
     "output_type": "execute_result"
    }
   ],
   "source": [
    "# Calculate the mean (lambda)\n",
    "lmbda = click_through_rate * num_visitors\n",
    "\n",
    "# Use the Poisson distribution to calculate the probability of 97 or more click-throughs\n",
    "prob = 1 - poisson.cdf(observed_click_throughs - 1, lmbda)\n",
    "\n",
    "# Print the probability\n",
    "prob"
   ]
  },
  {
   "cell_type": "markdown",
   "id": "22e71127-49ab-47c6-8771-1a277fb35973",
   "metadata": {
    "tags": []
   },
   "source": [
    "You are working on some statistics homework consisting of 100 questions where all of the answers are a probability rounded to the hundreths place. Looking to save time, you put down random probabilities as the answer to each question.\n",
    "\n",
    "What is the probability that at least one of your first 60 answers is correct?"
   ]
  },
  {
   "cell_type": "code",
   "execution_count": 29,
   "id": "1ca7fa0a-9c42-4bef-a90e-ba274f2f08c5",
   "metadata": {},
   "outputs": [
    {
     "data": {
      "text/plain": [
       "0.4528433576092388"
      ]
     },
     "execution_count": 29,
     "metadata": {},
     "output_type": "execute_result"
    }
   ],
   "source": [
    "# Define the parameters\n",
    "num_questions = 60\n",
    "possible_answers = 100\n",
    "\n",
    "# Calculate the probability of getting all the answers wrong\n",
    "prob_all_wrong = (1 - 1/possible_answers) ** num_questions\n",
    "\n",
    "# Calculate the probability of at least one correct answer in the first 60 questions\n",
    "prob_at_least_one_correct = 1 - prob_all_wrong\n",
    "\n",
    "prob_at_least_one_correct"
   ]
  },
  {
   "cell_type": "markdown",
   "id": "bf4ec21b-62ab-4275-b1e3-16e3a7c93f2e",
   "metadata": {},
   "source": [
    "The codeup staff tends to get upset when the student break area is not cleaned up. Suppose that there's a 3% chance that any one student cleans the break area when they visit it, and, on any given day, about 90% of the 3 active cohorts of 22 students visit the break area. How likely is it that the break area gets cleaned up each day? How likely is it that it goes two days without getting cleaned up? All week?"
   ]
  },
  {
   "cell_type": "code",
   "execution_count": 1,
   "id": "51f29369-e433-4783-b778-71ac7763430e",
   "metadata": {},
   "outputs": [
    {
     "data": {
      "text/plain": [
       "0.16377251387711247"
      ]
     },
     "execution_count": 1,
     "metadata": {},
     "output_type": "execute_result"
    }
   ],
   "source": [
    "# Define the parameters\n",
    "num_students = 22 * 3\n",
    "daily_break_area_visits = 0.9 * num_students\n",
    "clean_probability = 0.03\n",
    "\n",
    "# Calculate the probability of not cleaning the break area in a single day\n",
    "prob_not_clean_single_day = (1 - clean_probability) ** daily_break_area_visits\n",
    "\n",
    "prob_not_clean_single_day"
   ]
  },
  {
   "cell_type": "code",
   "execution_count": 2,
   "id": "17fd70bd-81fb-449f-a796-fcf6775b4cb7",
   "metadata": {},
   "outputs": [
    {
     "data": {
      "text/plain": [
       "0.8362274861228876"
      ]
     },
     "execution_count": 2,
     "metadata": {},
     "output_type": "execute_result"
    }
   ],
   "source": [
    "# Calculate the probability that the break area gets cleaned up at least once each day\n",
    "prob_clean_each_day = 1 - prob_not_clean_single_day\n",
    "prob_clean_each_day"
   ]
  },
  {
   "cell_type": "code",
   "execution_count": 3,
   "id": "bdede756-48cc-4683-8764-94a41cef786d",
   "metadata": {},
   "outputs": [
    {
     "data": {
      "text/plain": [
       "0.026821436301628997"
      ]
     },
     "execution_count": 3,
     "metadata": {},
     "output_type": "execute_result"
    }
   ],
   "source": [
    "prob_not_clean_two_days = prob_not_clean_single_day ** 2\n",
    "prob_not_clean_two_days"
   ]
  },
  {
   "cell_type": "code",
   "execution_count": 33,
   "id": "eed4eaef-6512-4e23-8ec3-f431ff869a2a",
   "metadata": {},
   "outputs": [
    {
     "data": {
      "text/plain": [
       "0.00011781621791055058"
      ]
     },
     "execution_count": 33,
     "metadata": {},
     "output_type": "execute_result"
    }
   ],
   "source": [
    "prob_not_clean_week = prob_not_clean_single_day ** 5\n",
    "prob_not_clean_week"
   ]
  },
  {
   "cell_type": "markdown",
   "id": "7cb23f98-9c0e-4257-8c56-648ee20de863",
   "metadata": {},
   "source": [
    "You want to get lunch at a restauraunt, but notice that the line is usually very long at lunchtime. After several weeks of careful observation, you notice that the average number of people in line when your lunch break starts is normally distributed with a mean of 15 and standard deviation of 3. If it takes 2 minutes for each person to order, and 10 minutes from ordering to getting your food, what is the likelihood that you have at least 15 minutes left to eat your food before you have to go back to class? Assume you have one hour for lunch, and ignore travel time to and from the restauraunt."
   ]
  },
  {
   "cell_type": "code",
   "execution_count": 98,
   "id": "9781bc28-1564-4677-8041-b118461c2139",
   "metadata": {},
   "outputs": [
    {
     "data": {
      "text/plain": [
       "0.6914624612740131"
      ]
     },
     "execution_count": 98,
     "metadata": {},
     "output_type": "execute_result"
    }
   ],
   "source": [
    "from scipy.stats import norm\n",
    "\n",
    "# Define the parameters\n",
    "mean = 15\n",
    "std_dev = 3\n",
    "max_people_in_line = 16.5\n",
    "\n",
    "# Calculate the probability that there are 17 or fewer people in line\n",
    "cumulative_probability = norm.cdf(max_people_in_line, mean, std_dev)\n",
    "\n",
    "cumulative_probability"
   ]
  },
  {
   "cell_type": "markdown",
   "id": "6ae7ffd8-4365-42cf-9573-bd1b87aeeb4d",
   "metadata": {},
   "source": [
    "Connect to the employees database and find the average salary of current employees, along with the standard deviation. For the following questions, calculate the answer based on modeling the employees salaries with a normal distribution defined by the calculated mean and standard deviation then compare this answer to the actual values present in the salaries dataset.\n",
    "\n",
    "What percent of employees earn less than 60,000?\n",
    "What percent of employees earn more than 95,000?\n",
    "What percent of employees earn between 65,000 and 80,000?\n",
    "What do the top 5% of employees make?"
   ]
  },
  {
   "cell_type": "code",
   "execution_count": 47,
   "id": "57e3c15a-5bd6-49d8-aba6-97bc23b2429a",
   "metadata": {},
   "outputs": [],
   "source": [
    "import env"
   ]
  },
  {
   "cell_type": "code",
   "execution_count": 50,
   "id": "79e7daff-ae61-4566-83ae-32dba632c0fd",
   "metadata": {},
   "outputs": [],
   "source": [
    "url = env.get_db_url('employees')"
   ]
  },
  {
   "cell_type": "code",
   "execution_count": 57,
   "id": "20404c86-8c63-4da2-97f2-e65c8e6a3a9e",
   "metadata": {},
   "outputs": [],
   "source": [
    "emp_sal = pd.read_sql(\"\"\"select avg(salary), stddev(salary)\n",
    "from employees\n",
    "\tjoin salaries on employees.emp_no = salaries.emp_no\n",
    "    where to_date > curdate()\"\"\", url)"
   ]
  },
  {
   "cell_type": "code",
   "execution_count": 58,
   "id": "64a7a51e-d7c3-435a-a789-57c89d5d18c1",
   "metadata": {},
   "outputs": [
    {
     "data": {
      "text/html": [
       "<div>\n",
       "<style scoped>\n",
       "    .dataframe tbody tr th:only-of-type {\n",
       "        vertical-align: middle;\n",
       "    }\n",
       "\n",
       "    .dataframe tbody tr th {\n",
       "        vertical-align: top;\n",
       "    }\n",
       "\n",
       "    .dataframe thead th {\n",
       "        text-align: right;\n",
       "    }\n",
       "</style>\n",
       "<table border=\"1\" class=\"dataframe\">\n",
       "  <thead>\n",
       "    <tr style=\"text-align: right;\">\n",
       "      <th></th>\n",
       "      <th>avg(salary)</th>\n",
       "      <th>stddev(salary)</th>\n",
       "    </tr>\n",
       "  </thead>\n",
       "  <tbody>\n",
       "    <tr>\n",
       "      <th>0</th>\n",
       "      <td>72012.2359</td>\n",
       "      <td>17309.959336</td>\n",
       "    </tr>\n",
       "  </tbody>\n",
       "</table>\n",
       "</div>"
      ],
      "text/plain": [
       "   avg(salary)  stddev(salary)\n",
       "0   72012.2359    17309.959336"
      ]
     },
     "execution_count": 58,
     "metadata": {},
     "output_type": "execute_result"
    }
   ],
   "source": [
    "emp_sal"
   ]
  },
  {
   "cell_type": "code",
   "execution_count": 66,
   "id": "fc7298bf-61cd-40ce-8ec2-091f3ca5486a",
   "metadata": {},
   "outputs": [],
   "source": [
    "mean = 72012.2359\n",
    "std_dev = 17309.95933634675"
   ]
  },
  {
   "cell_type": "code",
   "execution_count": 67,
   "id": "5827e3c3-be50-45e0-aa24-7d91f1db6cf0",
   "metadata": {},
   "outputs": [
    {
     "data": {
      "text/plain": [
       "0.2438569709201618"
      ]
     },
     "execution_count": 67,
     "metadata": {},
     "output_type": "execute_result"
    }
   ],
   "source": [
    "prob_less_than_60000 = norm.cdf(60000, mean, std_dev)\n",
    "prob_less_than_60000"
   ]
  },
  {
   "cell_type": "code",
   "execution_count": 68,
   "id": "53f97982-4879-431d-8c77-d447981e7755",
   "metadata": {},
   "outputs": [
    {
     "data": {
      "text/plain": [
       "0.09208773564924777"
      ]
     },
     "execution_count": 68,
     "metadata": {},
     "output_type": "execute_result"
    }
   ],
   "source": [
    "prob_more_than_95000 = 1 - norm.cdf(95000, mean, std_dev)\n",
    "prob_more_than_95000"
   ]
  },
  {
   "cell_type": "code",
   "execution_count": 69,
   "id": "850cfe68-06cf-4c52-bd61-eb10652dbbdd",
   "metadata": {},
   "outputs": [
    {
     "data": {
      "text/plain": [
       "0.3350612231883823"
      ]
     },
     "execution_count": 69,
     "metadata": {},
     "output_type": "execute_result"
    }
   ],
   "source": [
    "prob_between_65000_80000 = norm.cdf(80000, mean, std_dev) - norm.cdf(65000, mean, std_dev)\n",
    "prob_between_65000_80000"
   ]
  },
  {
   "cell_type": "code",
   "execution_count": 70,
   "id": "7ff23d41-76de-4cb5-9a5f-1bee251f913c",
   "metadata": {},
   "outputs": [
    {
     "data": {
      "text/plain": [
       "100484.58529677245"
      ]
     },
     "execution_count": 70,
     "metadata": {},
     "output_type": "execute_result"
    }
   ],
   "source": [
    "top_5_percent_salary = norm.ppf(0.95, mean, std_dev)\n",
    "top_5_percent_salary"
   ]
  }
 ],
 "metadata": {
  "kernelspec": {
   "display_name": "Python 3 (ipykernel)",
   "language": "python",
   "name": "python3"
  },
  "language_info": {
   "codemirror_mode": {
    "name": "ipython",
    "version": 3
   },
   "file_extension": ".py",
   "mimetype": "text/x-python",
   "name": "python",
   "nbconvert_exporter": "python",
   "pygments_lexer": "ipython3",
   "version": "3.9.13"
  }
 },
 "nbformat": 4,
 "nbformat_minor": 5
}
